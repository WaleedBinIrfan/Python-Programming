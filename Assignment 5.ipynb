{
 "cells": [
  {
   "cell_type": "code",
   "execution_count": 1,
   "metadata": {},
   "outputs": [
    {
     "name": "stdout",
     "output_type": "stream",
     "text": [
      "-4\n"
     ]
    }
   ],
   "source": [
    "#Q1-Write a Python function to calculate the factorial of a number (a non-negative integer). \n",
    "#The function accepts the number as an argument.\n",
    "def arguments (num1,num2):\n",
    "    total_num =(num1-num2)\n",
    "    print(total_num)\n",
    "arguments(num1=8 , num2=12)  "
   ]
  },
  {
   "cell_type": "code",
   "execution_count": 2,
   "metadata": {},
   "outputs": [
    {
     "name": "stdout",
     "output_type": "stream",
     "text": [
      "Sentense :  Behind The Picture\n",
      "No. of Upper case characters :  3\n",
      "No. of Lower case Characters :  13\n"
     ]
    }
   ],
   "source": [
    "#Q-2 Write a Python function that accepts a string and calculate the number of upper\n",
    "#case letters and lower case letters.\n",
    "\n",
    "def sentense(a):\n",
    "    case={\"UPPER_CASE\":0, \"LOWER_CASE\":0}\n",
    "    for b in a:\n",
    "        if b.isupper():\n",
    "           case[\"UPPER_CASE\"]+=1\n",
    "        elif b.islower():\n",
    "           case[\"LOWER_CASE\"]+=1\n",
    "        else:\n",
    "           pass\n",
    "    print (\"Sentense : \", a)\n",
    "    print (\"No. of Upper case characters : \", case[\"UPPER_CASE\"])\n",
    "    print (\"No. of Lower case Characters : \", case[\"LOWER_CASE\"])\n",
    "\n",
    "sentense('Behind The Picture')"
   ]
  },
  {
   "cell_type": "code",
   "execution_count": 3,
   "metadata": {},
   "outputs": [
    {
     "name": "stdout",
     "output_type": "stream",
     "text": [
      "[2, 4, 6, 8]\n"
     ]
    }
   ],
   "source": [
    "#Q-3 Write a Python function to print the even numbers from a given list.\n",
    "def even_number(a):\n",
    "    even = []\n",
    "    for n in a:\n",
    "        if n % 2 == 0:\n",
    "            even.append(n)\n",
    "    return even\n",
    "print(even_number([1, 2, 3, 4, 5, 6, 7, 8, 9]))"
   ]
  },
  {
   "cell_type": "code",
   "execution_count": 4,
   "metadata": {},
   "outputs": [
    {
     "name": "stdout",
     "output_type": "stream",
     "text": [
      "No\n"
     ]
    }
   ],
   "source": [
    "#Q-4 Write a Python function that checks whether a passed string is palindrome or not.\n",
    "#Note: A palindrome is a word, phrase, or sequence that reads the same\n",
    "#backward as forward, e.g., madam\n",
    "def reverse(s): \n",
    "    return s[::-1] \n",
    "def isPalindrome(s): \n",
    "    rev = reverse(s) \n",
    "    if (s == rev): \n",
    "        return True\n",
    "    return False\n",
    "s = \"false\"\n",
    "ans = isPalindrome(s) \n",
    "if ans == 1: \n",
    "    print(\"Yes\") \n",
    "else: \n",
    "    print(\"No\") "
   ]
  },
  {
   "cell_type": "code",
   "execution_count": 5,
   "metadata": {},
   "outputs": [
    {
     "name": "stdout",
     "output_type": "stream",
     "text": [
      "True\n"
     ]
    }
   ],
   "source": [
    "#Q-5 Write a Python function that takes a number as a parameter and check the\n",
    "#number is prime or not.\n",
    "def test_prime(n):\n",
    "    if (n==1):\n",
    "        return False\n",
    "    elif (n==2):\n",
    "        return True;\n",
    "    else:\n",
    "        for x in range(2,n):\n",
    "            if(n % x==0):\n",
    "                return False\n",
    "        return True             \n",
    "print(test_prime(2))"
   ]
  },
  {
   "cell_type": "code",
   "execution_count": null,
   "metadata": {},
   "outputs": [
    {
     "name": "stdout",
     "output_type": "stream",
     "text": [
      "Shopping list\n",
      "\n",
      " options:\n",
      "1.Add Products\n",
      "2.Delete Products\n",
      "3.Exits\n",
      "please input only options number\n",
      "please enter options1\n",
      "Add your productMIlk\n",
      "Shopping list\n",
      ">>>>MIlk\n",
      "\n",
      " options:\n",
      "1.Add Products\n",
      "2.Delete Products\n",
      "3.Exits\n",
      "please input only options number\n",
      "please enter options1\n",
      "Add your productOil\n",
      "Shopping list\n",
      ">>>>MIlk\n",
      ">>>>Oil\n",
      "\n",
      " options:\n",
      "1.Add Products\n",
      "2.Delete Products\n",
      "3.Exits\n",
      "please input only options number\n"
     ]
    }
   ],
   "source": [
    "# Q-6\n",
    "shops = []\n",
    "\n",
    "while True:\n",
    "    \n",
    "    print(\"Shopping list\")\n",
    "    for products in shops:\n",
    "        print(\">>>>\"+ products)\n",
    "    \n",
    "    print(\"\\n options:\")\n",
    "    print(\"1.Add Products\")\n",
    "    print(\"2.Delete Products\")\n",
    "    print(\"3.Exits\")\n",
    "    print(\"please input only options number\")\n",
    "    \n",
    "    inp = input(\"please enter options\")\n",
    "    \n",
    "    if inp == \"1\":\n",
    "        shops.append(input(\"Add your product\"))\n",
    "    elif inp == \"2\":\n",
    "        shops.remove(input(\"Delete your product\"))\n",
    "    elif inp == \"3\":\n",
    "        break\n",
    "    else :\n",
    "        print(\"invalid options\")"
   ]
  },
  {
   "cell_type": "code",
   "execution_count": null,
   "metadata": {},
   "outputs": [],
   "source": []
  }
 ],
 "metadata": {
  "kernelspec": {
   "display_name": "Python 3",
   "language": "python",
   "name": "python3"
  },
  "language_info": {
   "codemirror_mode": {
    "name": "ipython",
    "version": 3
   },
   "file_extension": ".py",
   "mimetype": "text/x-python",
   "name": "python",
   "nbconvert_exporter": "python",
   "pygments_lexer": "ipython3",
   "version": "3.7.4"
  }
 },
 "nbformat": 4,
 "nbformat_minor": 2
}
