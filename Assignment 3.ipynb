{
 "cells": [
  {
   "cell_type": "code",
   "execution_count": 45,
   "metadata": {},
   "outputs": [
    {
     "name": "stdout",
     "output_type": "stream",
     "text": [
      "enter first value2\n",
      "enter second value2\n",
      "enter operator+\n",
      "4 answer\n"
     ]
    }
   ],
   "source": [
    "#1. Make a calculator using Python with addition , subtraction , multiplication ,division & power.\n",
    "val1 = int(input('enter first value'))\n",
    "val2 = int(input('enter second value'))\n",
    "operator = input('enter operator')\n",
    "\n",
    "if operator == '+':\n",
    "    val = val1 + val2\n",
    "    print(val,'answer' )\n",
    "elif operator == \"-\":\n",
    "    val = val1 - val2\n",
    "    print(val,'answer' )\n",
    "elif operator == \"*\":\n",
    "    val = val1 * val2\n",
    "    print(val,'answer' )\n",
    "elif operator == \"/\":\n",
    "    val = val1 / val2\n",
    "    print(val,'answer' )\n",
    "elif operator == \"**\":\n",
    "    val = val1 ** val2\n",
    "    print(val,'answer' )\n",
    "else:\n",
    "    print('enter correct operator')\n"
   ]
  },
  {
   "cell_type": "code",
   "execution_count": 11,
   "metadata": {},
   "outputs": [
    {
     "name": "stdout",
     "output_type": "stream",
     "text": [
      "enter value 4\n",
      "this is not numeric value \n",
      "this is not numeric value \n",
      "this is not numeric value \n",
      "this is numeric value \n"
     ]
    }
   ],
   "source": [
    "# 2.Write a program to check if there is any numeric value in list using for loop\n",
    "data = [\"karachi\",\"lahore\",\"islamabad\",\"4\"]\n",
    "val = input('enter value ')\n",
    "for value in data:\n",
    "    if val == value:\n",
    "        print('this is numeric value ')\n",
    "    else:\n",
    "        print('this is not numeric value ')\n",
    "        "
   ]
  },
  {
   "cell_type": "code",
   "execution_count": 25,
   "metadata": {},
   "outputs": [
    {
     "name": "stdout",
     "output_type": "stream",
     "text": [
      "{'first name': 'Arshad', 'last name': 'Ali', 'address': 'North Karachi', 'language': 'Urdu'}\n"
     ]
    }
   ],
   "source": [
    "#3.Write a Python script to add a key to a dictionary\n",
    "supplier = {\"first name\": \"Arshad\",\n",
    "            \"last name\": \"Ali\",\n",
    "            \"address\": \"North Karachi\"}\n",
    "supplier[\"language\"] = \"Urdu\"\n",
    "print(supplier)\n"
   ]
  },
  {
   "cell_type": "code",
   "execution_count": 1,
   "metadata": {},
   "outputs": [
    {
     "name": "stdout",
     "output_type": "stream",
     "text": [
      "1000\n"
     ]
    }
   ],
   "source": [
    "#4.Write a Python program to sum all the numeric items in a dictionary\n",
    "product_prices = {'product1':200,'product2':300,'product3':500}\n",
    "print (sum(product_prices.values()))"
   ]
  },
  {
   "cell_type": "code",
   "execution_count": 3,
   "metadata": {},
   "outputs": [
    {
     "name": "stdout",
     "output_type": "stream",
     "text": [
      "[1, 2, 3, 4, 5, 9]\n"
     ]
    }
   ],
   "source": [
    "#5.Write a program to identify duplicate values from list\n",
    "list1 = [1,2,1,3,1,4,1,4,2,5,9]\n",
    "unique = []\n",
    "for ele in list1:\n",
    "    if ele not in unique:\n",
    "        unique.append(ele)\n",
    "print(unique)"
   ]
  },
  {
   "cell_type": "code",
   "execution_count": 17,
   "metadata": {},
   "outputs": [
    {
     "name": "stdout",
     "output_type": "stream",
     "text": [
      "Enter key to check:A\n",
      "Key is present and value of the key is: \n",
      "1\n"
     ]
    }
   ],
   "source": [
    "#6.Write a Python script to check if a given key already exists in a dictionary\n",
    "data = {'A':1,'B':2,'C':3}\n",
    "key = input(\"Enter key to check:\")\n",
    "if key in data.keys():\n",
    "      print(\"Key is present and value of the key is: \")\n",
    "      print(data[key])\n",
    "else:\n",
    "      print(\"Key isn't present!\")"
   ]
  }
 ],
 "metadata": {
  "kernelspec": {
   "display_name": "Python 3",
   "language": "python",
   "name": "python3"
  },
  "language_info": {
   "codemirror_mode": {
    "name": "ipython",
    "version": 3
   },
   "file_extension": ".py",
   "mimetype": "text/x-python",
   "name": "python",
   "nbconvert_exporter": "python",
   "pygments_lexer": "ipython3",
   "version": "3.7.4"
  }
 },
 "nbformat": 4,
 "nbformat_minor": 2
}
