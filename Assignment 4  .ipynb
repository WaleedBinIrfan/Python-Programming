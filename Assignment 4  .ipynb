{
 "cells": [
  {
   "cell_type": "code",
   "execution_count": 2,
   "metadata": {},
   "outputs": [
    {
     "name": "stdout",
     "output_type": "stream",
     "text": [
      "{'First_name': 'Arshad', 'Last_name': 'Ali', 'Age': '30', 'City': 'Karachi'}\n"
     ]
    }
   ],
   "source": [
    "# Q-1\n",
    "\n",
    "customer = {\"First_name\" : \"Arshad\",\"Last_name\" : \"Ali\",\"Age\" : \"30\",\"City\" : \"Karachi\" }\n",
    "print(customer)"
   ]
  },
  {
   "cell_type": "code",
   "execution_count": 3,
   "metadata": {},
   "outputs": [
    {
     "name": "stdout",
     "output_type": "stream",
     "text": [
      "{'First_name': 'Arshad', 'Last_name': 'Ali', 'Age': '30', 'City': 'Karachi', 'qualification': 'MBA'}\n"
     ]
    }
   ],
   "source": [
    "customer.update({\"qualification\":\"MBA\"})\n",
    "print(customer)"
   ]
  },
  {
   "cell_type": "code",
   "execution_count": 4,
   "metadata": {},
   "outputs": [
    {
     "name": "stdout",
     "output_type": "stream",
     "text": [
      "{'First_name': 'Arshad', 'Last_name': 'Ali', 'Age': '30', 'City': 'Karachi'}\n"
     ]
    }
   ],
   "source": [
    "del customer[\"qualification\"]\n",
    "print(customer)"
   ]
  },
  {
   "cell_type": "code",
   "execution_count": 5,
   "metadata": {},
   "outputs": [
    {
     "name": "stdout",
     "output_type": "stream",
     "text": [
      "{'Karachi': {'Country name': 'Pakistan', 'population': '14 million', 'Fact': 'The city of lights'}, 'New york': {'Country name': 'America', 'population': '8.6 million', 'Fact': 'The city of emire buildings'}, 'Paris': {'Country name': 'France', 'population': '2.1 million', 'Fact': 'The city of fragrance'}}\n"
     ]
    }
   ],
   "source": [
    "# Q-2\n",
    "countries_information = {\"Karachi\":{\"Country name\" : \"Pakistan\", \"population\" : \"14 million\",\"Fact\" : \"The city of lights\",},\n",
    "                        \"New york\":{\"Country name\" : \"America\", \"population\" : \"8.6 million\",\"Fact\" : \"The city of emire buildings\",},\n",
    "                        \"Paris\":{\"Country name\" : \"France\", \"population\" : \"2.1 million\",\"Fact\" : \"The city of fragrance\"},}\n",
    "print(countries_information)"
   ]
  },
  {
   "cell_type": "code",
   "execution_count": 6,
   "metadata": {},
   "outputs": [
    {
     "name": "stdout",
     "output_type": "stream",
     "text": [
      "One of my favorite book is Alice in wonderland\n"
     ]
    }
   ],
   "source": [
    "# Q-4\n",
    "\n",
    "def book(a,b):\n",
    "    title = a + \" \" + b\n",
    "    print(title)\n",
    "    \n",
    "book(\"One of my favorite book is\",\"Alice in wonderland\")"
   ]
  },
  {
   "cell_type": "code",
   "execution_count": 1,
   "metadata": {},
   "outputs": [
    {
     "name": "stdout",
     "output_type": "stream",
     "text": [
      "Enter an integer from 1 to 30: 1\n",
      "guess is low\n",
      "Enter an integer from 1 to 30: 5\n",
      "guess is low\n",
      "Enter an integer from 1 to 30: 6\n",
      "you guessed it!\n"
     ]
    }
   ],
   "source": [
    "# Q-5\n",
    "import random\n",
    "n = random.randint(1, 30)\n",
    "guess = int(input(\"Enter an integer from 1 to 30: \"))\n",
    "while n != \"guess\":\n",
    "    print\n",
    "    if guess < n:\n",
    "        print (\"guess is low\")\n",
    "        guess = int(input(\"Enter an integer from 1 to 30: \"))\n",
    "    elif guess > n:\n",
    "        print (\"guess is high\")\n",
    "        guess = int(input(\"Enter an integer from 1 to 30: \"))\n",
    "    else:\n",
    "        print (\"you guessed it!\")\n",
    "        break"
   ]
  },
  {
   "cell_type": "code",
   "execution_count": null,
   "metadata": {},
   "outputs": [
    {
     "name": "stdout",
     "output_type": "stream",
     "text": [
      "\n",
      "Enter 'quit' when you are finished.\n",
      "Please enter your age: 5\n",
      "Your ticket is $10\n",
      "\n",
      "Enter 'quit' when you are finished.\n",
      "Please enter your age: 6\n",
      "Your ticket is $10\n",
      "\n",
      "Enter 'quit' when you are finished.\n",
      "Please enter your age: 2\n",
      "Your ticket is free\n"
     ]
    }
   ],
   "source": [
    "# Q-3\n",
    "requirement = \"\\nEnter 'quit' when you are finished.\"\n",
    "requirement += \"\\nPlease enter your age: \"\n",
    "while True:\n",
    "    age = input(requirement)\n",
    "    age = int(age)\n",
    "    if age == 'quit':\n",
    "        break\n",
    "    elif age <= 3:\n",
    "        print(\"Your ticket is free\")\n",
    "    elif age <= 10:\n",
    "        print(\"Your ticket is $10\")\n",
    "    else:\n",
    "        print(\"Your ticket is $15\")"
   ]
  },
  {
   "cell_type": "code",
   "execution_count": null,
   "metadata": {},
   "outputs": [],
   "source": []
  }
 ],
 "metadata": {
  "kernelspec": {
   "display_name": "Python 3",
   "language": "python",
   "name": "python3"
  },
  "language_info": {
   "codemirror_mode": {
    "name": "ipython",
    "version": 3
   },
   "file_extension": ".py",
   "mimetype": "text/x-python",
   "name": "python",
   "nbconvert_exporter": "python",
   "pygments_lexer": "ipython3",
   "version": "3.7.4"
  }
 },
 "nbformat": 4,
 "nbformat_minor": 2
}
