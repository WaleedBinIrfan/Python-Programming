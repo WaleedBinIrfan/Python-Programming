{
 "cells": [
  {
   "cell_type": "code",
   "execution_count": 1,
   "metadata": {},
   "outputs": [],
   "source": [
    "# Object-oriented programming (OOP) refers to a type of computer programming (software design) in which programmers define the data type of a data structure, and also the types of operations (functions) that can be applied to the data structure."
   ]
  },
  {
   "cell_type": "code",
   "execution_count": null,
   "metadata": {},
   "outputs": [],
   "source": [
    "# Benefits of OOP:\n",
    "# It provides a clear modular structure for programs which makes it good for defining abstract datatypes in which implementation details are hidden\n",
    "# Objects can also be reused within an across applications. The reuse of software also lowers the cost of development. More effort is put into the object-oriented analysis and design, which lowers the overall cost of development.\n",
    "# It makes software easier to maintain. Since the design is modular, part of the system can be updated in case of issues without a need to make large-scale changes\n",
    "# Reuse also enables faster development. Object-oriented programming languages come with rich libraries of objects, and code developed during projects is also reusable in future projects.\n",
    "# It provides a good framework for code libraries where the supplied software components can be easily adapted and modified by the programmer. This is particularly useful for developing graphical user interfaces."
   ]
  },
  {
   "cell_type": "code",
   "execution_count": null,
   "metadata": {},
   "outputs": [],
   "source": [
    "# Difference between function and method\n",
    "# Programming languages we have two concepts functions and methods. functions are defined in structural language and methods are defined in object oriented languages. The difference between both is given below :\n",
    "\n",
    "# —Function are self contained program they have return some values and the functions are defined in structured languages like Pascal,C.\n",
    "\n",
    "# —Functions are called independently.\n",
    "\n",
    "# While methods are those do not have independent existence they are always defined with in class. Ex:- main() method in java Language that is defined with in a class.\n",
    "\n",
    "# Methods are called using instance or object.\n",
    "\n",
    "# Methods are used to manipulate instance variable of a class."
   ]
  },
  {
   "cell_type": "code",
   "execution_count": 4,
   "metadata": {},
   "outputs": [],
   "source": [
    "# Class: In object-oriented programming, a class is an extensible program-code-template for creating objects, providing initial values for state and implementations of behavior. \n",
    "# Object: In computer science, an object can be a variable, a data structure, a function, or a method, and as such, is a value in memory referenced by an identifier. \n",
    "# Attribute: In computing, an attribute is a specification that defines a property of an object, element, or file. It may also refer to or set the specific value for a given instance of such. For clarity, attributes should more correctly be considered metadata. An attribute is frequently and generally a property of a property. \n",
    "# Behaviour:  'Behavior' is an increasingly important concept in the scientific, societal, economic, cultural, political, military, living and virtual worlds."
   ]
  },
  {
   "cell_type": "code",
   "execution_count": 5,
   "metadata": {},
   "outputs": [
    {
     "name": "stdout",
     "output_type": "stream",
     "text": [
      "White\n",
      "Lamborghini\n",
      "2020\n",
      "UK\n",
      "UK default country\n",
      "Germany modify country\n"
     ]
    }
   ],
   "source": [
    "class car():\n",
    "    def __init__(self,model,colour,name):\n",
    "        self.name = name\n",
    "        self.model = model\n",
    "        self.colour = colour\n",
    "        self.country = 'UK'\n",
    "        \n",
    "    def updatecountry(self,newname):\n",
    "        self.countryname = newname\n",
    "new = car('Lamborghini',2020,'White')\n",
    "print(new.name)\n",
    "print(new.model)\n",
    "print(new.colour)\n",
    "print(new.country)\n",
    "print(new.country,'default country')\n",
    "new.updatecountry('Germany')\n",
    "print(new.countryname,'modify country')"
   ]
  },
  {
   "cell_type": "code",
   "execution_count": null,
   "metadata": {},
   "outputs": [],
   "source": []
  }
 ],
 "metadata": {
  "kernelspec": {
   "display_name": "Python 3",
   "language": "python",
   "name": "python3"
  },
  "language_info": {
   "codemirror_mode": {
    "name": "ipython",
    "version": 3
   },
   "file_extension": ".py",
   "mimetype": "text/x-python",
   "name": "python",
   "nbconvert_exporter": "python",
   "pygments_lexer": "ipython3",
   "version": "3.7.4"
  }
 },
 "nbformat": 4,
 "nbformat_minor": 2
}
